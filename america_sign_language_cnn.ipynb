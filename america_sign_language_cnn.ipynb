{
  "nbformat": 4,
  "nbformat_minor": 0,
  "metadata": {
    "colab": {
      "provenance": [],
      "gpuType": "T4",
      "authorship_tag": "ABX9TyNFhsiS0ODlp2vuAhliBsfV",
      "include_colab_link": true
    },
    "kernelspec": {
      "name": "python3",
      "display_name": "Python 3"
    },
    "language_info": {
      "name": "python"
    },
    "accelerator": "GPU"
  },
  "cells": [
    {
      "cell_type": "markdown",
      "metadata": {
        "id": "view-in-github",
        "colab_type": "text"
      },
      "source": [
        "<a href=\"https://colab.research.google.com/github/seyeonJeong/america_sign_language_classifier/blob/main/america_sign_language_cnn.ipynb\" target=\"_parent\"><img src=\"https://colab.research.google.com/assets/colab-badge.svg\" alt=\"Open In Colab\"/></a>"
      ]
    },
    {
      "cell_type": "code",
      "execution_count": null,
      "metadata": {
        "colab": {
          "base_uri": "https://localhost:8080/",
          "height": 1000
        },
        "id": "IW6mNpOWjtbE",
        "outputId": "6845dba8-fc6d-48d5-e6b2-953939c1fa41"
      },
      "outputs": [
        {
          "output_type": "stream",
          "name": "stdout",
          "text": [
            "Model: \"sequential_6\"\n",
            "_________________________________________________________________\n",
            " Layer (type)                Output Shape              Param #   \n",
            "=================================================================\n",
            " conv2d_17 (Conv2D)          (None, 26, 26, 32)        320       \n",
            "                                                                 \n",
            " conv2d_18 (Conv2D)          (None, 24, 24, 16)        4624      \n",
            "                                                                 \n",
            " max_pooling2d_10 (MaxPooli  (None, 12, 12, 16)        0         \n",
            " ng2D)                                                           \n",
            "                                                                 \n",
            " conv2d_19 (Conv2D)          (None, 10, 10, 8)         1160      \n",
            "                                                                 \n",
            " max_pooling2d_11 (MaxPooli  (None, 5, 5, 8)           0         \n",
            " ng2D)                                                           \n",
            "                                                                 \n",
            " dropout_5 (Dropout)         (None, 5, 5, 8)           0         \n",
            "                                                                 \n",
            " flatten_5 (Flatten)         (None, 200)               0         \n",
            "                                                                 \n",
            " dense_10 (Dense)            (None, 1000)              201000    \n",
            "                                                                 \n",
            " dense_11 (Dense)            (None, 26)                26026     \n",
            "                                                                 \n",
            "=================================================================\n",
            "Total params: 233130 (910.66 KB)\n",
            "Trainable params: 233130 (910.66 KB)\n",
            "Non-trainable params: 0 (0.00 Byte)\n",
            "_________________________________________________________________\n",
            "Epoch 1/30\n",
            "103/103 [==============================] - 3s 12ms/step - loss: 2.2479 - accuracy: 0.3329 - val_loss: 0.8375 - val_accuracy: 0.7673\n",
            "Epoch 2/30\n",
            " 22/103 [=====>........................] - ETA: 0s - loss: 0.9351 - accuracy: 0.7027"
          ]
        },
        {
          "output_type": "stream",
          "name": "stderr",
          "text": [
            "/usr/local/lib/python3.10/dist-packages/keras/src/engine/training.py:3103: UserWarning: You are saving your model as an HDF5 file via `model.save()`. This file format is considered legacy. We recommend using instead the native Keras format, e.g. `model.save('my_model.keras')`.\n",
            "  saving_api.save_model(\n"
          ]
        },
        {
          "output_type": "stream",
          "name": "stdout",
          "text": [
            "103/103 [==============================] - 1s 9ms/step - loss: 0.6717 - accuracy: 0.7840 - val_loss: 0.2261 - val_accuracy: 0.9382\n",
            "Epoch 3/30\n",
            "103/103 [==============================] - 1s 9ms/step - loss: 0.2924 - accuracy: 0.9045 - val_loss: 0.0692 - val_accuracy: 0.9926\n",
            "Epoch 4/30\n",
            "103/103 [==============================] - 1s 9ms/step - loss: 0.1598 - accuracy: 0.9476 - val_loss: 0.0261 - val_accuracy: 0.9980\n",
            "Epoch 5/30\n",
            "103/103 [==============================] - 1s 10ms/step - loss: 0.1028 - accuracy: 0.9681 - val_loss: 0.0114 - val_accuracy: 0.9991\n",
            "Epoch 6/30\n",
            "103/103 [==============================] - 1s 11ms/step - loss: 0.0693 - accuracy: 0.9795 - val_loss: 0.0077 - val_accuracy: 0.9999\n",
            "Epoch 7/30\n",
            "103/103 [==============================] - 1s 10ms/step - loss: 0.0528 - accuracy: 0.9840 - val_loss: 0.0038 - val_accuracy: 1.0000\n",
            "Epoch 8/30\n",
            "103/103 [==============================] - 1s 9ms/step - loss: 0.0448 - accuracy: 0.9862 - val_loss: 0.0021 - val_accuracy: 1.0000\n",
            "Epoch 9/30\n",
            "103/103 [==============================] - 1s 9ms/step - loss: 0.0376 - accuracy: 0.9893 - val_loss: 0.0042 - val_accuracy: 0.9997\n",
            "Epoch 10/30\n",
            "103/103 [==============================] - 1s 9ms/step - loss: 0.0302 - accuracy: 0.9909 - val_loss: 0.0011 - val_accuracy: 1.0000\n",
            "Epoch 11/30\n",
            "103/103 [==============================] - 1s 9ms/step - loss: 0.0264 - accuracy: 0.9921 - val_loss: 0.0060 - val_accuracy: 0.9988\n",
            "Epoch 12/30\n",
            "103/103 [==============================] - 1s 9ms/step - loss: 0.0268 - accuracy: 0.9917 - val_loss: 0.0020 - val_accuracy: 1.0000\n",
            "Epoch 13/30\n",
            "103/103 [==============================] - 1s 9ms/step - loss: 0.0235 - accuracy: 0.9927 - val_loss: 6.5795e-04 - val_accuracy: 1.0000\n",
            "Epoch 14/30\n",
            "103/103 [==============================] - 1s 8ms/step - loss: 0.0198 - accuracy: 0.9939 - val_loss: 0.0023 - val_accuracy: 0.9999\n",
            "Epoch 15/30\n",
            "103/103 [==============================] - 1s 9ms/step - loss: 0.0250 - accuracy: 0.9928 - val_loss: 7.3172e-04 - val_accuracy: 1.0000\n",
            "Epoch 16/30\n",
            "103/103 [==============================] - 1s 9ms/step - loss: 0.0204 - accuracy: 0.9939 - val_loss: 3.7884e-04 - val_accuracy: 1.0000\n",
            "Epoch 17/30\n",
            "103/103 [==============================] - 1s 9ms/step - loss: 0.0149 - accuracy: 0.9952 - val_loss: 4.7958e-04 - val_accuracy: 1.0000\n",
            "Epoch 18/30\n",
            "103/103 [==============================] - 1s 10ms/step - loss: 0.0130 - accuracy: 0.9952 - val_loss: 3.2708e-04 - val_accuracy: 1.0000\n",
            "Epoch 19/30\n",
            "103/103 [==============================] - 1s 10ms/step - loss: 0.0134 - accuracy: 0.9956 - val_loss: 8.4734e-04 - val_accuracy: 0.9996\n",
            "Epoch 20/30\n",
            "103/103 [==============================] - 1s 11ms/step - loss: 0.0155 - accuracy: 0.9950 - val_loss: 1.7663e-04 - val_accuracy: 1.0000\n",
            "Epoch 21/30\n",
            "103/103 [==============================] - 1s 9ms/step - loss: 0.0105 - accuracy: 0.9969 - val_loss: 1.1642e-04 - val_accuracy: 1.0000\n",
            "Epoch 22/30\n",
            "103/103 [==============================] - 1s 9ms/step - loss: 0.0138 - accuracy: 0.9955 - val_loss: 1.9282e-04 - val_accuracy: 1.0000\n",
            "Epoch 23/30\n",
            "103/103 [==============================] - 1s 9ms/step - loss: 0.0107 - accuracy: 0.9963 - val_loss: 9.8308e-05 - val_accuracy: 1.0000\n",
            "Epoch 24/30\n",
            "103/103 [==============================] - 1s 9ms/step - loss: 0.0089 - accuracy: 0.9975 - val_loss: 1.5452e-04 - val_accuracy: 1.0000\n",
            "Epoch 25/30\n",
            "103/103 [==============================] - 1s 8ms/step - loss: 0.0104 - accuracy: 0.9966 - val_loss: 1.6215e-04 - val_accuracy: 1.0000\n",
            "Epoch 26/30\n",
            "103/103 [==============================] - 1s 8ms/step - loss: 0.0123 - accuracy: 0.9962 - val_loss: 1.1204e-04 - val_accuracy: 1.0000\n",
            "Epoch 27/30\n",
            "103/103 [==============================] - 1s 9ms/step - loss: 0.0117 - accuracy: 0.9965 - val_loss: 4.0292e-04 - val_accuracy: 1.0000\n",
            "Epoch 28/30\n",
            "103/103 [==============================] - 1s 9ms/step - loss: 0.0103 - accuracy: 0.9970 - val_loss: 1.6795e-04 - val_accuracy: 1.0000\n",
            "Epoch 29/30\n",
            "103/103 [==============================] - 1s 9ms/step - loss: 0.0097 - accuracy: 0.9968 - val_loss: 2.9191e-04 - val_accuracy: 1.0000\n",
            "Epoch 30/30\n",
            "103/103 [==============================] - 1s 8ms/step - loss: 0.0116 - accuracy: 0.9962 - val_loss: 1.3483e-04 - val_accuracy: 1.0000\n",
            "225/225 [==============================] - 1s 3ms/step - loss: 0.2699 - accuracy: 0.9444\n",
            "\n",
            " Test Accuracy: 0.9444\n"
          ]
        },
        {
          "output_type": "display_data",
          "data": {
            "text/plain": [
              "<Figure size 640x480 with 1 Axes>"
            ],
            "image/png": "[encoded data removed]"
          },
          "metadata": {}
        }
      ],
      "source": [
        "from tensorflow.keras.utils import to_categorical\n",
        "from tensorflow.keras.models import Sequential\n",
        "from tensorflow.keras.layers import Dense, Dropout, Flatten, Conv2D, MaxPooling2D\n",
        "from tensorflow.keras.callbacks import ModelCheckpoint, EarlyStopping\n",
        "\n",
        "import numpy as np\n",
        "import matplotlib.pyplot as plt\n",
        "\n",
        "\n",
        "# test 파일 불러오기\n",
        "test_data = np.loadtxt(\"/content/sign_mnist_test.csv\", delimiter=\",\")\n",
        "\n",
        "# x와 y split (0번째 열은 class)\n",
        "test_x = test_data[:,1:785]\n",
        "test_y = test_data[:,0]\n",
        "\n",
        "# train 파일 불러오기\n",
        "train_data = np.loadtxt(\"/content/sign_mnist_train.csv\", delimiter=\",\")\n",
        "\n",
        "train_x = train_data[:,1:785]\n",
        "train_y = train_data[:,0]\n",
        "\n",
        "# 입력층이 컨볼루션 층이기 때문에, 28*28*1(1은 흑백 3은 컬러)로 reshape\n",
        "# 255로 나누는 이유는 일종의 정규화 tensorflow에서는 0~1사이의 값에서 성능이 좋다고 한다.\n",
        "test_x = test_x.reshape(test_x.shape[0], 28, 28, 1).astype('float64') / 255\n",
        "train_x = train_x.reshape(train_x.shape[0],28, 28, 1).astype('float64') / 255\n",
        "\n",
        "# 26개의 원-핫 인코딩벡터로 바꿔준다.\n",
        "train_y = to_categorical(train_y, 26)\n",
        "test_y = to_categorical(test_y, 26)\n",
        "\n",
        "# CNN 구현\n",
        "# conv layer -> conv layer -> pooling -> conv layer -> pooling -> FC -> FC (softmax) 의 구조\n",
        "# 다중 분류 모델이므로 activation 으로 softmax 활용\n",
        "\n",
        "model = Sequential()\n",
        "model.add(Conv2D(32,kernel_size = (3,3),input_shape = (28,28,1), activation = 'relu'))\n",
        "model.add(Conv2D(16,(3,3), activation = 'relu'))\n",
        "model.add(MaxPooling2D(pool_size=(2,2)))\n",
        "model.add(Conv2D(8,(3,3), activation= 'relu'))\n",
        "model.add(MaxPooling2D(pool_size = (2,2)))\n",
        "model.add(Dropout(0.25))\n",
        "model.add(Flatten())\n",
        "model.add(Dense(1000, activation='relu'))\n",
        "model.add(Dense(26, activation = 'softmax'))\n",
        "model.summary()\n",
        "\n",
        "# loss 함수는 categorical_crossentropy, optimizer은 adam 사용\n",
        "model.compile(loss='categorical_crossentropy', optimizer = 'adam', metrics=['accuracy'])\n",
        "\n",
        "# 모델 저장 및 early stopping (val_loss를 기준으로 10회 동안 변동이 없으면 학습이 종료된다.)\n",
        "modelpath = \"./AME_SIGN_MNIST_MLP.hdf5\"\n",
        "checkpoint = ModelCheckpoint(filepath=modelpath, monitor='val_loss', verbose=0, save_best_only = True)\n",
        "early_stopping_callback = EarlyStopping(monitor='val_loss', patience=10)\n",
        "\n",
        "# validation 25% , epochs 30회, batch_size = 200으로 진행\n",
        "history = model.fit(train_x, train_y, validation_split=0.25, epochs=30, batch_size = 200, verbose=1, callbacks=[checkpoint, early_stopping_callback])\n",
        "\n",
        "# test에 대한 정확도\n",
        "print(\"\\n Test Accuracy: %.4f\" % (model.evaluate(test_x, y_test)[1]))\n",
        "\n",
        "y_vloss = history.history['val_loss']\n",
        "y_loss = history.history['loss']\n",
        "\n",
        "x_len = np.arange(len(y_loss))\n",
        "plt.plot(x_len, y_vloss, marker='.', c=\"red\", label='Testset_loss')\n",
        "plt.plot(x_len, y_loss, marker='.', c=\"blue\", label='Trainset_loss')\n",
        "\n",
        "plt.legend(loc='upper right')\n",
        "plt.grid()\n",
        "plt.xlabel('epoch')\n",
        "plt.ylabel('loss')\n",
        "plt.show()\n"
      ]
    },
    {
      "cell_type": "code",
      "source": [
        "\n",
        "# 100개의 case 중 예측값과 실제 class 사이의 몇개의 불일치가 있는지 출력해줌\n",
        "predictions = model.predict(test_x)\n",
        "\n",
        "cnt = 0\n",
        "for i in range(100):\n",
        "    if np.argmax(predictions[i]) != np.argmax(test_y[i]):\n",
        "        cnt += 1\n",
        "\n",
        "print(\"100개의 case 중 %d 개 불일치 \" % (cnt))"
      ],
      "metadata": {
        "colab": {
          "base_uri": "https://localhost:8080/"
        },
        "id": "cm_yrClHzyGl",
        "outputId": "d5a9ee40-6eeb-4732-8e1f-3a6aa637a80b"
      },
      "execution_count": null,
      "outputs": [
        {
          "output_type": "stream",
          "name": "stdout",
          "text": [
            "225/225 [==============================] - 0s 2ms/step\n",
            "100개의 case 중 8 개 불일치 \n"
          ]
        }
      ]
    }
  ]
}